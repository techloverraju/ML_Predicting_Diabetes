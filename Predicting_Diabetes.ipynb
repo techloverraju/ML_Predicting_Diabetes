{
 "cells": [
  {
   "cell_type": "markdown",
   "id": "d8eb24e2",
   "metadata": {},
   "source": [
    "# step1: Load data into jupyter"
   ]
  },
  {
   "cell_type": "code",
   "execution_count": 1,
   "id": "b956dd38",
   "metadata": {},
   "outputs": [],
   "source": [
    "import pandas as pd\n",
    "import matplotlib.pyplot as plt\n",
    "import numpy as np\n",
    "%matplotlib inline"
   ]
  },
  {
   "cell_type": "code",
   "execution_count": 2,
   "id": "b87af059",
   "metadata": {},
   "outputs": [
    {
     "data": {
      "text/html": [
       "<div>\n",
       "<style scoped>\n",
       "    .dataframe tbody tr th:only-of-type {\n",
       "        vertical-align: middle;\n",
       "    }\n",
       "\n",
       "    .dataframe tbody tr th {\n",
       "        vertical-align: top;\n",
       "    }\n",
       "\n",
       "    .dataframe thead th {\n",
       "        text-align: right;\n",
       "    }\n",
       "</style>\n",
       "<table border=\"1\" class=\"dataframe\">\n",
       "  <thead>\n",
       "    <tr style=\"text-align: right;\">\n",
       "      <th></th>\n",
       "      <th>num_preg</th>\n",
       "      <th>glucose_conc</th>\n",
       "      <th>diastolic_bp</th>\n",
       "      <th>thickness</th>\n",
       "      <th>insulin</th>\n",
       "      <th>bmi</th>\n",
       "      <th>diab_pred</th>\n",
       "      <th>age</th>\n",
       "      <th>diabetes_orig</th>\n",
       "      <th>skin</th>\n",
       "      <th>has_diabetes</th>\n",
       "      <th>diabetes</th>\n",
       "    </tr>\n",
       "  </thead>\n",
       "  <tbody>\n",
       "    <tr>\n",
       "      <th>0</th>\n",
       "      <td>6</td>\n",
       "      <td>148</td>\n",
       "      <td>72</td>\n",
       "      <td>35</td>\n",
       "      <td>0</td>\n",
       "      <td>33.6</td>\n",
       "      <td>0.627</td>\n",
       "      <td>50</td>\n",
       "      <td>1</td>\n",
       "      <td>1.3790</td>\n",
       "      <td>True</td>\n",
       "      <td>True</td>\n",
       "    </tr>\n",
       "    <tr>\n",
       "      <th>1</th>\n",
       "      <td>1</td>\n",
       "      <td>85</td>\n",
       "      <td>66</td>\n",
       "      <td>29</td>\n",
       "      <td>0</td>\n",
       "      <td>26.6</td>\n",
       "      <td>0.351</td>\n",
       "      <td>31</td>\n",
       "      <td>0</td>\n",
       "      <td>1.1426</td>\n",
       "      <td>False</td>\n",
       "      <td>False</td>\n",
       "    </tr>\n",
       "    <tr>\n",
       "      <th>2</th>\n",
       "      <td>8</td>\n",
       "      <td>183</td>\n",
       "      <td>64</td>\n",
       "      <td>0</td>\n",
       "      <td>0</td>\n",
       "      <td>23.3</td>\n",
       "      <td>0.672</td>\n",
       "      <td>32</td>\n",
       "      <td>1</td>\n",
       "      <td>0.0000</td>\n",
       "      <td>True</td>\n",
       "      <td>True</td>\n",
       "    </tr>\n",
       "    <tr>\n",
       "      <th>3</th>\n",
       "      <td>1</td>\n",
       "      <td>89</td>\n",
       "      <td>66</td>\n",
       "      <td>23</td>\n",
       "      <td>94</td>\n",
       "      <td>28.1</td>\n",
       "      <td>0.167</td>\n",
       "      <td>21</td>\n",
       "      <td>0</td>\n",
       "      <td>0.9062</td>\n",
       "      <td>False</td>\n",
       "      <td>False</td>\n",
       "    </tr>\n",
       "    <tr>\n",
       "      <th>4</th>\n",
       "      <td>0</td>\n",
       "      <td>137</td>\n",
       "      <td>40</td>\n",
       "      <td>35</td>\n",
       "      <td>168</td>\n",
       "      <td>43.1</td>\n",
       "      <td>2.288</td>\n",
       "      <td>33</td>\n",
       "      <td>1</td>\n",
       "      <td>1.3790</td>\n",
       "      <td>True</td>\n",
       "      <td>True</td>\n",
       "    </tr>\n",
       "  </tbody>\n",
       "</table>\n",
       "</div>"
      ],
      "text/plain": [
       "   num_preg  glucose_conc  diastolic_bp  thickness  insulin   bmi  diab_pred  \\\n",
       "0         6           148            72         35        0  33.6      0.627   \n",
       "1         1            85            66         29        0  26.6      0.351   \n",
       "2         8           183            64          0        0  23.3      0.672   \n",
       "3         1            89            66         23       94  28.1      0.167   \n",
       "4         0           137            40         35      168  43.1      2.288   \n",
       "\n",
       "   age  diabetes_orig    skin  has_diabetes  diabetes  \n",
       "0   50              1  1.3790          True      True  \n",
       "1   31              0  1.1426         False     False  \n",
       "2   32              1  0.0000          True      True  \n",
       "3   21              0  0.9062         False     False  \n",
       "4   33              1  1.3790          True      True  "
      ]
     },
     "execution_count": 2,
     "metadata": {},
     "output_type": "execute_result"
    }
   ],
   "source": [
    "df=pd.read_excel('pima-data.xlsx')\n",
    "df.head()"
   ]
  },
  {
   "cell_type": "code",
   "execution_count": 3,
   "id": "13464a46",
   "metadata": {},
   "outputs": [
    {
     "data": {
      "text/html": [
       "<div>\n",
       "<style scoped>\n",
       "    .dataframe tbody tr th:only-of-type {\n",
       "        vertical-align: middle;\n",
       "    }\n",
       "\n",
       "    .dataframe tbody tr th {\n",
       "        vertical-align: top;\n",
       "    }\n",
       "\n",
       "    .dataframe thead th {\n",
       "        text-align: right;\n",
       "    }\n",
       "</style>\n",
       "<table border=\"1\" class=\"dataframe\">\n",
       "  <thead>\n",
       "    <tr style=\"text-align: right;\">\n",
       "      <th></th>\n",
       "      <th>num_preg</th>\n",
       "      <th>glucose_conc</th>\n",
       "      <th>diastolic_bp</th>\n",
       "      <th>thickness</th>\n",
       "      <th>insulin</th>\n",
       "      <th>bmi</th>\n",
       "      <th>diab_pred</th>\n",
       "      <th>age</th>\n",
       "      <th>diabetes_orig</th>\n",
       "      <th>skin</th>\n",
       "      <th>has_diabetes</th>\n",
       "      <th>diabetes</th>\n",
       "    </tr>\n",
       "  </thead>\n",
       "  <tbody>\n",
       "    <tr>\n",
       "      <th>763</th>\n",
       "      <td>10</td>\n",
       "      <td>101</td>\n",
       "      <td>76</td>\n",
       "      <td>48</td>\n",
       "      <td>180</td>\n",
       "      <td>32.9</td>\n",
       "      <td>0.171</td>\n",
       "      <td>63</td>\n",
       "      <td>0</td>\n",
       "      <td>1.8912</td>\n",
       "      <td>False</td>\n",
       "      <td>False</td>\n",
       "    </tr>\n",
       "    <tr>\n",
       "      <th>764</th>\n",
       "      <td>2</td>\n",
       "      <td>122</td>\n",
       "      <td>70</td>\n",
       "      <td>27</td>\n",
       "      <td>0</td>\n",
       "      <td>36.8</td>\n",
       "      <td>0.340</td>\n",
       "      <td>27</td>\n",
       "      <td>0</td>\n",
       "      <td>1.0638</td>\n",
       "      <td>False</td>\n",
       "      <td>False</td>\n",
       "    </tr>\n",
       "    <tr>\n",
       "      <th>765</th>\n",
       "      <td>5</td>\n",
       "      <td>121</td>\n",
       "      <td>72</td>\n",
       "      <td>23</td>\n",
       "      <td>112</td>\n",
       "      <td>26.2</td>\n",
       "      <td>0.245</td>\n",
       "      <td>30</td>\n",
       "      <td>0</td>\n",
       "      <td>0.9062</td>\n",
       "      <td>False</td>\n",
       "      <td>False</td>\n",
       "    </tr>\n",
       "    <tr>\n",
       "      <th>766</th>\n",
       "      <td>1</td>\n",
       "      <td>126</td>\n",
       "      <td>60</td>\n",
       "      <td>0</td>\n",
       "      <td>0</td>\n",
       "      <td>30.1</td>\n",
       "      <td>0.349</td>\n",
       "      <td>47</td>\n",
       "      <td>1</td>\n",
       "      <td>0.0000</td>\n",
       "      <td>True</td>\n",
       "      <td>True</td>\n",
       "    </tr>\n",
       "    <tr>\n",
       "      <th>767</th>\n",
       "      <td>1</td>\n",
       "      <td>93</td>\n",
       "      <td>70</td>\n",
       "      <td>31</td>\n",
       "      <td>0</td>\n",
       "      <td>30.4</td>\n",
       "      <td>0.315</td>\n",
       "      <td>23</td>\n",
       "      <td>0</td>\n",
       "      <td>1.2214</td>\n",
       "      <td>False</td>\n",
       "      <td>False</td>\n",
       "    </tr>\n",
       "  </tbody>\n",
       "</table>\n",
       "</div>"
      ],
      "text/plain": [
       "     num_preg  glucose_conc  diastolic_bp  thickness  insulin   bmi  \\\n",
       "763        10           101            76         48      180  32.9   \n",
       "764         2           122            70         27        0  36.8   \n",
       "765         5           121            72         23      112  26.2   \n",
       "766         1           126            60          0        0  30.1   \n",
       "767         1            93            70         31        0  30.4   \n",
       "\n",
       "     diab_pred  age  diabetes_orig    skin  has_diabetes  diabetes  \n",
       "763      0.171   63              0  1.8912         False     False  \n",
       "764      0.340   27              0  1.0638         False     False  \n",
       "765      0.245   30              0  0.9062         False     False  \n",
       "766      0.349   47              1  0.0000          True      True  \n",
       "767      0.315   23              0  1.2214         False     False  "
      ]
     },
     "execution_count": 3,
     "metadata": {},
     "output_type": "execute_result"
    }
   ],
   "source": [
    "df.tail()"
   ]
  },
  {
   "cell_type": "code",
   "execution_count": 4,
   "id": "ce8bf9b1",
   "metadata": {},
   "outputs": [
    {
     "data": {
      "text/plain": [
       "768"
      ]
     },
     "execution_count": 4,
     "metadata": {},
     "output_type": "execute_result"
    }
   ],
   "source": [
    "len(df)"
   ]
  },
  {
   "cell_type": "markdown",
   "id": "0d6c0b5e",
   "metadata": {},
   "source": [
    "# step 2: Clean data"
   ]
  },
  {
   "cell_type": "markdown",
   "id": "2798c585",
   "metadata": {},
   "source": [
    "##2.a-let us find if there are any null values"
   ]
  },
  {
   "cell_type": "code",
   "execution_count": 5,
   "id": "87b02689",
   "metadata": {},
   "outputs": [
    {
     "data": {
      "text/plain": [
       "False"
      ]
     },
     "execution_count": 5,
     "metadata": {},
     "output_type": "execute_result"
    }
   ],
   "source": [
    "df.isnull().values.any()"
   ]
  },
  {
   "cell_type": "markdown",
   "id": "63de01af",
   "metadata": {},
   "source": [
    "##2.b-Let us find duplicate columns or co-related columns"
   ]
  },
  {
   "cell_type": "markdown",
   "id": "2645d632",
   "metadata": {},
   "source": [
    "## first check how many columns are there----12"
   ]
  },
  {
   "cell_type": "code",
   "execution_count": 6,
   "id": "17c7be80",
   "metadata": {},
   "outputs": [],
   "source": [
    "def plot_corr(df, size=12):\n",
    " corr = df.corr() #pandas data frame correlation function\n",
    " fig, ax = plt.subplots(figsize=(size,size))\n",
    " ax.matshow(corr) #color code the rectangles by correlation values\n",
    " plt.xticks(range(len(corr.columns)), corr.columns)\n",
    " plt.yticks(range(len(corr.columns)), corr.columns)\n",
    "\n"
   ]
  },
  {
   "cell_type": "markdown",
   "id": "a5445e32",
   "metadata": {},
   "source": [
    "#lets call above columns"
   ]
  },
  {
   "cell_type": "code",
   "execution_count": 7,
   "id": "792bb695",
   "metadata": {},
   "outputs": [
    {
     "data": {
      "image/png": "[encoded data removed]",
      "text/plain": [
       "<Figure size 864x864 with 1 Axes>"
      ]
     },
     "metadata": {
      "needs_background": "light"
     },
     "output_type": "display_data"
    }
   ],
   "source": [
    "plot_corr(df)"
   ]
  },
  {
   "cell_type": "markdown",
   "id": "ba34dc0a",
   "metadata": {},
   "source": [
    "# we are going to remove thickness,diabetes_orig_diabetes"
   ]
  },
  {
   "cell_type": "code",
   "execution_count": 8,
   "id": "ec4b2c19",
   "metadata": {},
   "outputs": [],
   "source": [
    "del df['thickness']\n",
    "del df['has_diabetes']\n",
    "del df['diabetes_orig']"
   ]
  },
  {
   "cell_type": "code",
   "execution_count": 9,
   "id": "a29fa39c",
   "metadata": {},
   "outputs": [
    {
     "data": {
      "text/html": [
       "<div>\n",
       "<style scoped>\n",
       "    .dataframe tbody tr th:only-of-type {\n",
       "        vertical-align: middle;\n",
       "    }\n",
       "\n",
       "    .dataframe tbody tr th {\n",
       "        vertical-align: top;\n",
       "    }\n",
       "\n",
       "    .dataframe thead th {\n",
       "        text-align: right;\n",
       "    }\n",
       "</style>\n",
       "<table border=\"1\" class=\"dataframe\">\n",
       "  <thead>\n",
       "    <tr style=\"text-align: right;\">\n",
       "      <th></th>\n",
       "      <th>num_preg</th>\n",
       "      <th>glucose_conc</th>\n",
       "      <th>diastolic_bp</th>\n",
       "      <th>insulin</th>\n",
       "      <th>bmi</th>\n",
       "      <th>diab_pred</th>\n",
       "      <th>age</th>\n",
       "      <th>skin</th>\n",
       "      <th>diabetes</th>\n",
       "    </tr>\n",
       "  </thead>\n",
       "  <tbody>\n",
       "    <tr>\n",
       "      <th>0</th>\n",
       "      <td>6</td>\n",
       "      <td>148</td>\n",
       "      <td>72</td>\n",
       "      <td>0</td>\n",
       "      <td>33.6</td>\n",
       "      <td>0.627</td>\n",
       "      <td>50</td>\n",
       "      <td>1.3790</td>\n",
       "      <td>True</td>\n",
       "    </tr>\n",
       "    <tr>\n",
       "      <th>1</th>\n",
       "      <td>1</td>\n",
       "      <td>85</td>\n",
       "      <td>66</td>\n",
       "      <td>0</td>\n",
       "      <td>26.6</td>\n",
       "      <td>0.351</td>\n",
       "      <td>31</td>\n",
       "      <td>1.1426</td>\n",
       "      <td>False</td>\n",
       "    </tr>\n",
       "    <tr>\n",
       "      <th>2</th>\n",
       "      <td>8</td>\n",
       "      <td>183</td>\n",
       "      <td>64</td>\n",
       "      <td>0</td>\n",
       "      <td>23.3</td>\n",
       "      <td>0.672</td>\n",
       "      <td>32</td>\n",
       "      <td>0.0000</td>\n",
       "      <td>True</td>\n",
       "    </tr>\n",
       "    <tr>\n",
       "      <th>3</th>\n",
       "      <td>1</td>\n",
       "      <td>89</td>\n",
       "      <td>66</td>\n",
       "      <td>94</td>\n",
       "      <td>28.1</td>\n",
       "      <td>0.167</td>\n",
       "      <td>21</td>\n",
       "      <td>0.9062</td>\n",
       "      <td>False</td>\n",
       "    </tr>\n",
       "    <tr>\n",
       "      <th>4</th>\n",
       "      <td>0</td>\n",
       "      <td>137</td>\n",
       "      <td>40</td>\n",
       "      <td>168</td>\n",
       "      <td>43.1</td>\n",
       "      <td>2.288</td>\n",
       "      <td>33</td>\n",
       "      <td>1.3790</td>\n",
       "      <td>True</td>\n",
       "    </tr>\n",
       "  </tbody>\n",
       "</table>\n",
       "</div>"
      ],
      "text/plain": [
       "   num_preg  glucose_conc  diastolic_bp  insulin   bmi  diab_pred  age  \\\n",
       "0         6           148            72        0  33.6      0.627   50   \n",
       "1         1            85            66        0  26.6      0.351   31   \n",
       "2         8           183            64        0  23.3      0.672   32   \n",
       "3         1            89            66       94  28.1      0.167   21   \n",
       "4         0           137            40      168  43.1      2.288   33   \n",
       "\n",
       "     skin  diabetes  \n",
       "0  1.3790      True  \n",
       "1  1.1426     False  \n",
       "2  0.0000      True  \n",
       "3  0.9062     False  \n",
       "4  1.3790      True  "
      ]
     },
     "execution_count": 9,
     "metadata": {},
     "output_type": "execute_result"
    }
   ],
   "source": [
    "df.head()"
   ]
  },
  {
   "cell_type": "markdown",
   "id": "e9b3da22",
   "metadata": {},
   "source": [
    "##2.c-lets convert text to numbers\n",
    "## machine learning algorithms will not understand text.so convert to numbers."
   ]
  },
  {
   "cell_type": "code",
   "execution_count": 10,
   "id": "8087940d",
   "metadata": {},
   "outputs": [],
   "source": [
    "diabetes_map={True:1,False:0}\n",
    "df['diabetes']=df['diabetes'].map(diabetes_map)"
   ]
  },
  {
   "cell_type": "code",
   "execution_count": 11,
   "id": "26098cb3",
   "metadata": {},
   "outputs": [
    {
     "data": {
      "text/html": [
       "<div>\n",
       "<style scoped>\n",
       "    .dataframe tbody tr th:only-of-type {\n",
       "        vertical-align: middle;\n",
       "    }\n",
       "\n",
       "    .dataframe tbody tr th {\n",
       "        vertical-align: top;\n",
       "    }\n",
       "\n",
       "    .dataframe thead th {\n",
       "        text-align: right;\n",
       "    }\n",
       "</style>\n",
       "<table border=\"1\" class=\"dataframe\">\n",
       "  <thead>\n",
       "    <tr style=\"text-align: right;\">\n",
       "      <th></th>\n",
       "      <th>num_preg</th>\n",
       "      <th>glucose_conc</th>\n",
       "      <th>diastolic_bp</th>\n",
       "      <th>insulin</th>\n",
       "      <th>bmi</th>\n",
       "      <th>diab_pred</th>\n",
       "      <th>age</th>\n",
       "      <th>skin</th>\n",
       "      <th>diabetes</th>\n",
       "    </tr>\n",
       "  </thead>\n",
       "  <tbody>\n",
       "    <tr>\n",
       "      <th>0</th>\n",
       "      <td>6</td>\n",
       "      <td>148</td>\n",
       "      <td>72</td>\n",
       "      <td>0</td>\n",
       "      <td>33.6</td>\n",
       "      <td>0.627</td>\n",
       "      <td>50</td>\n",
       "      <td>1.3790</td>\n",
       "      <td>1</td>\n",
       "    </tr>\n",
       "    <tr>\n",
       "      <th>1</th>\n",
       "      <td>1</td>\n",
       "      <td>85</td>\n",
       "      <td>66</td>\n",
       "      <td>0</td>\n",
       "      <td>26.6</td>\n",
       "      <td>0.351</td>\n",
       "      <td>31</td>\n",
       "      <td>1.1426</td>\n",
       "      <td>0</td>\n",
       "    </tr>\n",
       "    <tr>\n",
       "      <th>2</th>\n",
       "      <td>8</td>\n",
       "      <td>183</td>\n",
       "      <td>64</td>\n",
       "      <td>0</td>\n",
       "      <td>23.3</td>\n",
       "      <td>0.672</td>\n",
       "      <td>32</td>\n",
       "      <td>0.0000</td>\n",
       "      <td>1</td>\n",
       "    </tr>\n",
       "    <tr>\n",
       "      <th>3</th>\n",
       "      <td>1</td>\n",
       "      <td>89</td>\n",
       "      <td>66</td>\n",
       "      <td>94</td>\n",
       "      <td>28.1</td>\n",
       "      <td>0.167</td>\n",
       "      <td>21</td>\n",
       "      <td>0.9062</td>\n",
       "      <td>0</td>\n",
       "    </tr>\n",
       "    <tr>\n",
       "      <th>4</th>\n",
       "      <td>0</td>\n",
       "      <td>137</td>\n",
       "      <td>40</td>\n",
       "      <td>168</td>\n",
       "      <td>43.1</td>\n",
       "      <td>2.288</td>\n",
       "      <td>33</td>\n",
       "      <td>1.3790</td>\n",
       "      <td>1</td>\n",
       "    </tr>\n",
       "  </tbody>\n",
       "</table>\n",
       "</div>"
      ],
      "text/plain": [
       "   num_preg  glucose_conc  diastolic_bp  insulin   bmi  diab_pred  age  \\\n",
       "0         6           148            72        0  33.6      0.627   50   \n",
       "1         1            85            66        0  26.6      0.351   31   \n",
       "2         8           183            64        0  23.3      0.672   32   \n",
       "3         1            89            66       94  28.1      0.167   21   \n",
       "4         0           137            40      168  43.1      2.288   33   \n",
       "\n",
       "     skin  diabetes  \n",
       "0  1.3790         1  \n",
       "1  1.1426         0  \n",
       "2  0.0000         1  \n",
       "3  0.9062         0  \n",
       "4  1.3790         1  "
      ]
     },
     "execution_count": 11,
     "metadata": {},
     "output_type": "execute_result"
    }
   ],
   "source": [
    "df.head()"
   ]
  },
  {
   "cell_type": "markdown",
   "id": "61a64ef7",
   "metadata": {},
   "source": [
    "# let us check propotion of diabeties vs non-diabeties data"
   ]
  },
  {
   "cell_type": "markdown",
   "id": "1d94dcfc",
   "metadata": {},
   "source": [
    "### we need to ensure that the proportion should be balanced (50-50) diabwties and non diabetes or at least close enough to proceed"
   ]
  },
  {
   "cell_type": "code",
   "execution_count": 12,
   "id": "3f5c5823",
   "metadata": {},
   "outputs": [
    {
     "name": "stdout",
     "output_type": "stream",
     "text": [
      "true =  34.89583333333333\n",
      "false =  65.10416666666666\n"
     ]
    }
   ],
   "source": [
    "num_true = len(df.loc[df['diabetes'] == True]) \n",
    "num_false = len(df.loc[df['diabetes'] == False])\n",
    "print('true = ', (num_true/ (num_true+num_false) )*100 ) \n",
    "print('false = ', (num_false/ (num_true+num_false) )*100 ) \n"
   ]
  },
  {
   "cell_type": "markdown",
   "id": "97a483ac",
   "metadata": {},
   "source": [
    "## In case of data imbalance we use SMOTE technique to increase lesser data samples"
   ]
  },
  {
   "cell_type": "markdown",
   "id": "96358617",
   "metadata": {},
   "source": [
    "# step 3-Train test split"
   ]
  },
  {
   "cell_type": "markdown",
   "id": "dc5b8b12",
   "metadata": {},
   "source": [
    "###let us split data for training and testing the algorithm"
   ]
  },
  {
   "cell_type": "code",
   "execution_count": 13,
   "id": "a688e6c1",
   "metadata": {},
   "outputs": [],
   "source": [
    "from sklearn.model_selection import train_test_split\n",
    "feature_col_names = ['num_preg','glucose_conc', 'diastolic_bp', 'skin',\n",
    " 'insulin','bmi','diab_pred','age']\n",
    "predicted_class_names = ['diabetes']\n",
    "x = df[feature_col_names].values \n",
    "y = df[predicted_class_names].values \n",
    "split_test_size = 0.30\n",
    "x_train, x_test, y_train, y_test = train_test_split(x,y, test_size=split_test_size, random_state=42)\n"
   ]
  },
  {
   "cell_type": "code",
   "execution_count": 14,
   "id": "f0768f38",
   "metadata": {},
   "outputs": [
    {
     "name": "stdout",
     "output_type": "stream",
     "text": [
      "# rows in dataframe 768\n",
      "# rows missing glucose_conc : 5\n",
      "# rows missing diastolic_bp : 35\n",
      "# rows missing thickness : 227\n",
      "# rows missing insulin : 374\n",
      "# rows missing bmi : 11\n",
      "# rows missing diab_pred : 0\n",
      "# rows missing age : 0\n"
     ]
    }
   ],
   "source": [
    "print('# rows in dataframe {0}'.format(len(df)))\n",
    "print('# rows missing glucose_conc : {0}'.format(len(df.loc[df['glucose_conc']== 0])))\n",
    "print('# rows missing diastolic_bp : {0}'.format(len(df.loc[df['diastolic_bp']== 0])))\n",
    "print('# rows missing thickness : {0}'.format(len(df.loc[df['skin']== 0])))\n",
    "print('# rows missing insulin : {0}'.format(len(df.loc[df['insulin']== 0])))\n",
    "print('# rows missing bmi : {0}'.format(len(df.loc[df['bmi']== 0])))\n",
    "print('# rows missing diab_pred : {0}'.format(len(df.loc[df['diab_pred']== 0])))\n",
    "print('# rows missing age : {0}'.format(len(df.loc[df['age']== 0])))\n"
   ]
  },
  {
   "cell_type": "markdown",
   "id": "2f546304",
   "metadata": {},
   "source": [
    "# lets fill 0's with valid data (eaither mean or mode)"
   ]
  },
  {
   "cell_type": "code",
   "execution_count": 15,
   "id": "bb530087",
   "metadata": {},
   "outputs": [],
   "source": [
    "from sklearn.impute import SimpleImputer\n",
    "fill_0 = SimpleImputer(missing_values=0, strategy='mean')\n",
    "x_train = fill_0.fit_transform(x_train)\n",
    "x_test = fill_0.fit_transform(x_test)"
   ]
  },
  {
   "cell_type": "code",
   "execution_count": 16,
   "id": "d1faba34",
   "metadata": {},
   "outputs": [
    {
     "data": {
      "text/plain": [
       "array([[1.00000000e+00, 9.50000000e+01, 6.00000000e+01, 7.09200000e-01,\n",
       "        5.80000000e+01, 2.39000000e+01, 2.60000000e-01, 2.20000000e+01],\n",
       "       [5.00000000e+00, 1.05000000e+02, 7.20000000e+01, 1.14260000e+00,\n",
       "        3.25000000e+02, 3.69000000e+01, 1.59000000e-01, 2.80000000e+01],\n",
       "       [4.34056399e+00, 1.35000000e+02, 6.80000000e+01, 1.65480000e+00,\n",
       "        2.50000000e+02, 4.23000000e+01, 3.65000000e-01, 2.40000000e+01],\n",
       "       [4.00000000e+00, 1.31000000e+02, 6.80000000e+01, 8.27400000e-01,\n",
       "        1.66000000e+02, 3.31000000e+01, 1.60000000e-01, 2.80000000e+01],\n",
       "       [1.00000000e+00, 1.03000000e+02, 3.00000000e+01, 1.49720000e+00,\n",
       "        8.30000000e+01, 4.33000000e+01, 1.83000000e-01, 3.30000000e+01],\n",
       "       [2.00000000e+00, 8.20000000e+01, 5.20000000e+01, 8.66800000e-01,\n",
       "        1.15000000e+02, 2.85000000e+01, 1.69900000e+00, 2.50000000e+01],\n",
       "       [3.00000000e+00, 1.28000000e+02, 7.80000000e+01, 1.12871227e+00,\n",
       "        1.55333333e+02, 2.11000000e+01, 2.68000000e-01, 5.50000000e+01],\n",
       "       [1.00000000e+00, 1.22000000e+02, 6.40000000e+01, 1.26080000e+00,\n",
       "        1.56000000e+02, 3.51000000e+01, 6.92000000e-01, 3.00000000e+01],\n",
       "       [4.34056399e+00, 1.38000000e+02, 7.22413127e+01, 1.12871227e+00,\n",
       "        1.55333333e+02, 3.63000000e+01, 9.33000000e-01, 2.50000000e+01],\n",
       "       [4.34056399e+00, 1.25000000e+02, 6.80000000e+01, 1.12871227e+00,\n",
       "        1.55333333e+02, 2.47000000e+01, 2.06000000e-01, 2.10000000e+01]])"
      ]
     },
     "execution_count": 16,
     "metadata": {},
     "output_type": "execute_result"
    }
   ],
   "source": [
    "x_train[0:10]"
   ]
  },
  {
   "cell_type": "markdown",
   "id": "79db5c85",
   "metadata": {},
   "source": [
    "# step4: Train The Model"
   ]
  },
  {
   "cell_type": "code",
   "execution_count": 17,
   "id": "61bfc00b",
   "metadata": {},
   "outputs": [
    {
     "data": {
      "text/plain": [
       "GaussianNB()"
      ]
     },
     "execution_count": 17,
     "metadata": {},
     "output_type": "execute_result"
    }
   ],
   "source": [
    "from sklearn.naive_bayes import GaussianNB\n",
    "nb_model = GaussianNB()\n",
    "nb_model.fit(x_train, y_train.ravel())\n"
   ]
  },
  {
   "cell_type": "markdown",
   "id": "5d46b4b3",
   "metadata": {},
   "source": [
    "### let test the algorithm's accuracy with training data itself"
   ]
  },
  {
   "cell_type": "code",
   "execution_count": 18,
   "id": "a52e929e",
   "metadata": {},
   "outputs": [
    {
     "name": "stdout",
     "output_type": "stream",
     "text": [
      "accuracy : 0.7542\n",
      "\n"
     ]
    }
   ],
   "source": [
    "nb_predict_train = nb_model.predict(x_train)\n",
    "from sklearn import metrics\n",
    "#accuracy\n",
    "print('accuracy : {0:.4f}'.format(metrics.accuracy_score(y_train, nb_predict_train)))\n",
    "print()"
   ]
  },
  {
   "cell_type": "markdown",
   "id": "cf167c20",
   "metadata": {},
   "source": [
    "# Step5:Testing Model"
   ]
  },
  {
   "cell_type": "code",
   "execution_count": 19,
   "id": "697ee45e",
   "metadata": {},
   "outputs": [
    {
     "name": "stdout",
     "output_type": "stream",
     "text": [
      "accuracy : 0.7359\n",
      "\n"
     ]
    }
   ],
   "source": [
    "nb_predict_test = nb_model.predict(x_test)\n",
    "from sklearn import metrics\n",
    "print('accuracy : {0:.4f}'.format(metrics.accuracy_score(y_test, nb_predict_test)))\n",
    "print()\n"
   ]
  },
  {
   "cell_type": "markdown",
   "id": "24033db4",
   "metadata": {},
   "source": [
    "# step 6:Analyze the Model Accuracy"
   ]
  },
  {
   "cell_type": "code",
   "execution_count": 20,
   "id": "eebb5c15",
   "metadata": {},
   "outputs": [
    {
     "name": "stdout",
     "output_type": "stream",
     "text": [
      "confusion matrix\n",
      "[[118  33]\n",
      " [ 28  52]]\n",
      "\n",
      "classification report\n",
      "              precision    recall  f1-score   support\n",
      "\n",
      "           0       0.81      0.78      0.79       151\n",
      "           1       0.61      0.65      0.63        80\n",
      "\n",
      "    accuracy                           0.74       231\n",
      "   macro avg       0.71      0.72      0.71       231\n",
      "weighted avg       0.74      0.74      0.74       231\n",
      "\n"
     ]
    }
   ],
   "source": [
    "print('confusion matrix')\n",
    "print('{0}'.format(metrics.confusion_matrix(y_test, nb_predict_test)))\n",
    "print('')\n",
    "print('classification report')\n",
    "print(metrics.classification_report(y_test, nb_predict_test))"
   ]
  },
  {
   "cell_type": "markdown",
   "id": "e95ca69f",
   "metadata": {},
   "source": [
    "# final observation of naive bayes algo==>accuracy 73%,recall 81%"
   ]
  },
  {
   "cell_type": "markdown",
   "id": "9611ed03",
   "metadata": {},
   "source": [
    "## Type 2 error values should be less compared to type 1 error"
   ]
  },
  {
   "cell_type": "markdown",
   "id": "9b3740f1",
   "metadata": {},
   "source": [
    "## let us try random forest algorithm"
   ]
  },
  {
   "cell_type": "code",
   "execution_count": 21,
   "id": "f02e1347",
   "metadata": {},
   "outputs": [
    {
     "name": "stdout",
     "output_type": "stream",
     "text": [
      "accuracy : 0.7403\n"
     ]
    }
   ],
   "source": [
    "from sklearn.ensemble import RandomForestClassifier\n",
    "rf_model = RandomForestClassifier(random_state=42)\n",
    "rf_model.fit(x_train, y_train.ravel())\n",
    "rf_predict_test = rf_model.predict(x_test)\n",
    "print('accuracy : {0:.4f}'.format(metrics.accuracy_score(y_test, rf_predict_test)))\n"
   ]
  },
  {
   "cell_type": "markdown",
   "id": "72131c1c",
   "metadata": {},
   "source": [
    "#### let us see confusion matrix and classification report "
   ]
  },
  {
   "cell_type": "code",
   "execution_count": 22,
   "id": "cbe1c9e8",
   "metadata": {},
   "outputs": [
    {
     "name": "stdout",
     "output_type": "stream",
     "text": [
      "[[119  32]\n",
      " [ 28  52]]\n",
      "\n",
      "classification report\n",
      "              precision    recall  f1-score   support\n",
      "\n",
      "           0       0.81      0.79      0.80       151\n",
      "           1       0.62      0.65      0.63        80\n",
      "\n",
      "    accuracy                           0.74       231\n",
      "   macro avg       0.71      0.72      0.72       231\n",
      "weighted avg       0.74      0.74      0.74       231\n",
      "\n"
     ]
    }
   ],
   "source": [
    "print(metrics.confusion_matrix(y_test, rf_predict_test))\n",
    "print('')\n",
    "print('classification report')\n",
    "print(metrics.classification_report(y_test, rf_predict_test))"
   ]
  },
  {
   "cell_type": "markdown",
   "id": "ad101d00",
   "metadata": {},
   "source": [
    "## let us try with logistic regression algorithm"
   ]
  },
  {
   "cell_type": "code",
   "execution_count": 23,
   "id": "4c84f464",
   "metadata": {
    "scrolled": true
   },
   "outputs": [
    {
     "name": "stdout",
     "output_type": "stream",
     "text": [
      "accuracy: 0.7143\n",
      "\n",
      "[[111  40]\n",
      " [ 26  54]]\n",
      "\n",
      "classification report\n",
      "              precision    recall  f1-score   support\n",
      "\n",
      "           0       0.81      0.74      0.77       151\n",
      "           1       0.57      0.68      0.62        80\n",
      "\n",
      "    accuracy                           0.71       231\n",
      "   macro avg       0.69      0.71      0.70       231\n",
      "weighted avg       0.73      0.71      0.72       231\n",
      "\n"
     ]
    },
    {
     "name": "stderr",
     "output_type": "stream",
     "text": [
      "C:\\Users\\Rajasekhar\\AppData\\Local\\Programs\\Python\\Python39\\lib\\site-packages\\sklearn\\linear_model\\_logistic.py:814: ConvergenceWarning: lbfgs failed to converge (status=1):\n",
      "STOP: TOTAL NO. of ITERATIONS REACHED LIMIT.\n",
      "\n",
      "Increase the number of iterations (max_iter) or scale the data as shown in:\n",
      "    https://scikit-learn.org/stable/modules/preprocessing.html\n",
      "Please also refer to the documentation for alternative solver options:\n",
      "    https://scikit-learn.org/stable/modules/linear_model.html#logistic-regression\n",
      "  n_iter_i = _check_optimize_result(\n"
     ]
    }
   ],
   "source": [
    "from sklearn.linear_model import LogisticRegression\n",
    "lr_model = LogisticRegression(class_weight='balanced',C=0.2, random_state = 42) \n",
    "lr_model.fit(x_train, y_train.ravel())\n",
    "lr_predict_test = lr_model.predict(x_test)\n",
    "\n",
    "print('accuracy: {0:.4f}'.format(metrics.accuracy_score(y_test, lr_predict_test)))\n",
    "print('')\n",
    "print(metrics.confusion_matrix(y_test, lr_predict_test))\n",
    "print('')\n",
    "print('classification report')\n",
    "print(metrics.classification_report(y_test, lr_predict_test))\n"
   ]
  },
  {
   "cell_type": "markdown",
   "id": "da30ad41",
   "metadata": {},
   "source": [
    "## Final conclusion -we are suggesting random forest algorithm for this project as the accuracy is 75% and recall value is 82% which is higher than other to algorithms (i.e,Nave Bayes and logistic regression algorithm)"
   ]
  },
  {
   "cell_type": "code",
   "execution_count": null,
   "id": "45f74590",
   "metadata": {},
   "outputs": [],
   "source": []
  }
 ],
 "metadata": {
  "kernelspec": {
   "display_name": "Python 3 (ipykernel)",
   "language": "python",
   "name": "python3"
  },
  "language_info": {
   "codemirror_mode": {
    "name": "ipython",
    "version": 3
   },
   "file_extension": ".py",
   "mimetype": "text/x-python",
   "name": "python",
   "nbconvert_exporter": "python",
   "pygments_lexer": "ipython3",
   "version": "3.9.8"
  }
 },
 "nbformat": 4,
 "nbformat_minor": 5
}
